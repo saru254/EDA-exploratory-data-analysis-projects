{
 "cells": [
  {
   "cell_type": "code",
   "execution_count": 12,
   "metadata": {},
   "outputs": [],
   "source": [
    "# importing libraries\n",
    "import pandas as pd\n",
    "import numpy as np\n",
    "import matplotlib.pyplot as plt\n",
    "import seaborn as sns\n"
   ]
  },
  {
   "cell_type": "code",
   "execution_count": 13,
   "metadata": {},
   "outputs": [],
   "source": [
    "#loading the dataset\n",
    "food = pd.read_csv('food_prices_ken.csv')"
   ]
  },
  {
   "cell_type": "code",
   "execution_count": 14,
   "metadata": {},
   "outputs": [
    {
     "name": "stdout",
     "output_type": "stream",
     "text": [
      "<class 'pandas.core.frame.DataFrame'>\n",
      "RangeIndex: 18579 entries, 0 to 18578\n",
      "Data columns (total 14 columns):\n",
      " #   Column     Non-Null Count  Dtype \n",
      "---  ------     --------------  ----- \n",
      " 0   date       18579 non-null  object\n",
      " 1   admin1     18579 non-null  object\n",
      " 2   admin2     18579 non-null  object\n",
      " 3   market     18579 non-null  object\n",
      " 4   latitude   18579 non-null  object\n",
      " 5   longitude  18579 non-null  object\n",
      " 6   category   18579 non-null  object\n",
      " 7   commodity  18579 non-null  object\n",
      " 8   unit       18579 non-null  object\n",
      " 9   priceflag  18579 non-null  object\n",
      " 10  pricetype  18579 non-null  object\n",
      " 11  currency   18579 non-null  object\n",
      " 12  price      18579 non-null  object\n",
      " 13  usdprice   18579 non-null  object\n",
      "dtypes: object(14)\n",
      "memory usage: 2.0+ MB\n",
      "None\n"
     ]
    }
   ],
   "source": [
    "# displaying basic information about the dataset\n",
    "print(food.info())"
   ]
  },
  {
   "cell_type": "code",
   "execution_count": 15,
   "metadata": {},
   "outputs": [
    {
     "name": "stdout",
     "output_type": "stream",
     "text": [
      "         date      admin1      admin2            market  latitude  longitude  \\\n",
      "0       #date  #adm1+name  #adm2+name  #loc+market+name  #geo+lat   #geo+lon   \n",
      "1  2006-01-15       Coast     Mombasa           Mombasa     -4.05  39.666667   \n",
      "2  2006-01-15       Coast     Mombasa           Mombasa     -4.05  39.666667   \n",
      "3  2006-01-15       Coast     Mombasa           Mombasa     -4.05  39.666667   \n",
      "4  2006-01-15       Coast     Mombasa           Mombasa     -4.05  39.666667   \n",
      "\n",
      "             category      commodity        unit         priceflag  \\\n",
      "0          #item+type     #item+name  #item+unit  #item+price+flag   \n",
      "1  cereals and tubers          Maize          KG            actual   \n",
      "2  cereals and tubers  Maize (white)       90 KG            actual   \n",
      "3     pulses and nuts          Beans          KG            actual   \n",
      "4     pulses and nuts    Beans (dry)       90 KG            actual   \n",
      "\n",
      "          pricetype   currency   price    usdprice  \n",
      "0  #item+price+type  #currency  #value  #value+usd  \n",
      "1         Wholesale        KES   16.13      0.2235  \n",
      "2         Wholesale        KES  1480.0     20.5041  \n",
      "3         Wholesale        KES   33.63      0.4659  \n",
      "4         Wholesale        KES  3246.0     44.9705  \n"
     ]
    }
   ],
   "source": [
    "#displaying the first few rows of the dataset.\n",
    "print(food.head())"
   ]
  }
 ],
 "metadata": {
  "kernelspec": {
   "display_name": "Python 3",
   "language": "python",
   "name": "python3"
  },
  "language_info": {
   "codemirror_mode": {
    "name": "ipython",
    "version": 3
   },
   "file_extension": ".py",
   "mimetype": "text/x-python",
   "name": "python",
   "nbconvert_exporter": "python",
   "pygments_lexer": "ipython3",
   "version": "3.11.2"
  },
  "orig_nbformat": 4
 },
 "nbformat": 4,
 "nbformat_minor": 2
}
