{
 "cells": [
  {
   "cell_type": "code",
   "execution_count": 22,
   "metadata": {},
   "outputs": [],
   "source": [
    "# importing libraries\n",
    "import pandas as pd\n",
    "import numpy as np\n",
    "import matplotlib.pyplot as plt\n",
    "import seaborn as sns\n"
   ]
  },
  {
   "cell_type": "code",
   "execution_count": 23,
   "metadata": {},
   "outputs": [],
   "source": [
    "#loading the dataset\n",
    "food = pd.read_csv('food_prices_ken.csv')"
   ]
  },
  {
   "cell_type": "code",
   "execution_count": 24,
   "metadata": {},
   "outputs": [
    {
     "name": "stdout",
     "output_type": "stream",
     "text": [
      "<class 'pandas.core.frame.DataFrame'>\n",
      "RangeIndex: 18579 entries, 0 to 18578\n",
      "Data columns (total 14 columns):\n",
      " #   Column     Non-Null Count  Dtype \n",
      "---  ------     --------------  ----- \n",
      " 0   date       18579 non-null  object\n",
      " 1   admin1     18579 non-null  object\n",
      " 2   admin2     18579 non-null  object\n",
      " 3   market     18579 non-null  object\n",
      " 4   latitude   18579 non-null  object\n",
      " 5   longitude  18579 non-null  object\n",
      " 6   category   18579 non-null  object\n",
      " 7   commodity  18579 non-null  object\n",
      " 8   unit       18579 non-null  object\n",
      " 9   priceflag  18579 non-null  object\n",
      " 10  pricetype  18579 non-null  object\n",
      " 11  currency   18579 non-null  object\n",
      " 12  price      18579 non-null  object\n",
      " 13  usdprice   18579 non-null  object\n",
      "dtypes: object(14)\n",
      "memory usage: 2.0+ MB\n",
      "None\n"
     ]
    }
   ],
   "source": [
    "# displaying basic information about the dataset\n",
    "print(food.info())"
   ]
  },
  {
   "cell_type": "code",
   "execution_count": 25,
   "metadata": {},
   "outputs": [
    {
     "name": "stdout",
     "output_type": "stream",
     "text": [
      "         date      admin1      admin2            market  latitude  longitude  \\\n",
      "0       #date  #adm1+name  #adm2+name  #loc+market+name  #geo+lat   #geo+lon   \n",
      "1  2006-01-15       Coast     Mombasa           Mombasa     -4.05  39.666667   \n",
      "2  2006-01-15       Coast     Mombasa           Mombasa     -4.05  39.666667   \n",
      "3  2006-01-15       Coast     Mombasa           Mombasa     -4.05  39.666667   \n",
      "4  2006-01-15       Coast     Mombasa           Mombasa     -4.05  39.666667   \n",
      "\n",
      "             category      commodity        unit         priceflag  \\\n",
      "0          #item+type     #item+name  #item+unit  #item+price+flag   \n",
      "1  cereals and tubers          Maize          KG            actual   \n",
      "2  cereals and tubers  Maize (white)       90 KG            actual   \n",
      "3     pulses and nuts          Beans          KG            actual   \n",
      "4     pulses and nuts    Beans (dry)       90 KG            actual   \n",
      "\n",
      "          pricetype   currency   price    usdprice  \n",
      "0  #item+price+type  #currency  #value  #value+usd  \n",
      "1         Wholesale        KES   16.13      0.2235  \n",
      "2         Wholesale        KES  1480.0     20.5041  \n",
      "3         Wholesale        KES   33.63      0.4659  \n",
      "4         Wholesale        KES  3246.0     44.9705  \n"
     ]
    }
   ],
   "source": [
    "#displaying the first few rows of the dataset.\n",
    "print(food.head())"
   ]
  },
  {
   "cell_type": "code",
   "execution_count": 26,
   "metadata": {},
   "outputs": [],
   "source": [
    "#data cleaning\n",
    "# handling missing values if any\n",
    "food.dropna(inplace=True)"
   ]
  },
  {
   "cell_type": "code",
   "execution_count": 27,
   "metadata": {},
   "outputs": [
    {
     "data": {
      "text/html": [
       "<div>\n",
       "<style scoped>\n",
       "    .dataframe tbody tr th:only-of-type {\n",
       "        vertical-align: middle;\n",
       "    }\n",
       "\n",
       "    .dataframe tbody tr th {\n",
       "        vertical-align: top;\n",
       "    }\n",
       "\n",
       "    .dataframe thead th {\n",
       "        text-align: right;\n",
       "    }\n",
       "</style>\n",
       "<table border=\"1\" class=\"dataframe\">\n",
       "  <thead>\n",
       "    <tr style=\"text-align: right;\">\n",
       "      <th></th>\n",
       "      <th>date</th>\n",
       "      <th>admin1</th>\n",
       "      <th>admin2</th>\n",
       "      <th>market</th>\n",
       "      <th>latitude</th>\n",
       "      <th>longitude</th>\n",
       "      <th>category</th>\n",
       "      <th>commodity</th>\n",
       "      <th>unit</th>\n",
       "      <th>priceflag</th>\n",
       "      <th>pricetype</th>\n",
       "      <th>currency</th>\n",
       "      <th>price</th>\n",
       "      <th>usdprice</th>\n",
       "    </tr>\n",
       "  </thead>\n",
       "  <tbody>\n",
       "    <tr>\n",
       "      <th>count</th>\n",
       "      <td>18579</td>\n",
       "      <td>18579</td>\n",
       "      <td>18579</td>\n",
       "      <td>18579</td>\n",
       "      <td>18579</td>\n",
       "      <td>18579</td>\n",
       "      <td>18579</td>\n",
       "      <td>18579</td>\n",
       "      <td>18579</td>\n",
       "      <td>18579</td>\n",
       "      <td>18579</td>\n",
       "      <td>18579</td>\n",
       "      <td>18579</td>\n",
       "      <td>18579</td>\n",
       "    </tr>\n",
       "    <tr>\n",
       "      <th>unique</th>\n",
       "      <td>219</td>\n",
       "      <td>8</td>\n",
       "      <td>23</td>\n",
       "      <td>63</td>\n",
       "      <td>63</td>\n",
       "      <td>63</td>\n",
       "      <td>9</td>\n",
       "      <td>48</td>\n",
       "      <td>15</td>\n",
       "      <td>4</td>\n",
       "      <td>3</td>\n",
       "      <td>2</td>\n",
       "      <td>6987</td>\n",
       "      <td>11430</td>\n",
       "    </tr>\n",
       "    <tr>\n",
       "      <th>top</th>\n",
       "      <td>2021-04-15</td>\n",
       "      <td>Rift Valley</td>\n",
       "      <td>Nairobi</td>\n",
       "      <td>Nairobi</td>\n",
       "      <td>-1.283333</td>\n",
       "      <td>36.816667</td>\n",
       "      <td>cereals and tubers</td>\n",
       "      <td>Maize (white)</td>\n",
       "      <td>KG</td>\n",
       "      <td>actual</td>\n",
       "      <td>Wholesale</td>\n",
       "      <td>KES</td>\n",
       "      <td>0.0</td>\n",
       "      <td>0.0</td>\n",
       "    </tr>\n",
       "    <tr>\n",
       "      <th>freq</th>\n",
       "      <td>623</td>\n",
       "      <td>7261</td>\n",
       "      <td>3835</td>\n",
       "      <td>1849</td>\n",
       "      <td>1849</td>\n",
       "      <td>1849</td>\n",
       "      <td>8695</td>\n",
       "      <td>1869</td>\n",
       "      <td>7440</td>\n",
       "      <td>10773</td>\n",
       "      <td>10310</td>\n",
       "      <td>18578</td>\n",
       "      <td>2687</td>\n",
       "      <td>2687</td>\n",
       "    </tr>\n",
       "  </tbody>\n",
       "</table>\n",
       "</div>"
      ],
      "text/plain": [
       "              date       admin1   admin2   market   latitude  longitude  \\\n",
       "count        18579        18579    18579    18579      18579      18579   \n",
       "unique         219            8       23       63         63         63   \n",
       "top     2021-04-15  Rift Valley  Nairobi  Nairobi  -1.283333  36.816667   \n",
       "freq           623         7261     3835     1849       1849       1849   \n",
       "\n",
       "                  category      commodity   unit priceflag  pricetype  \\\n",
       "count                18579          18579  18579     18579      18579   \n",
       "unique                   9             48     15         4          3   \n",
       "top     cereals and tubers  Maize (white)     KG    actual  Wholesale   \n",
       "freq                  8695           1869   7440     10773      10310   \n",
       "\n",
       "       currency  price usdprice  \n",
       "count     18579  18579    18579  \n",
       "unique        2   6987    11430  \n",
       "top         KES    0.0      0.0  \n",
       "freq      18578   2687     2687  "
      ]
     },
     "execution_count": 27,
     "metadata": {},
     "output_type": "execute_result"
    }
   ],
   "source": [
    "#describing statistics \n",
    "# summary statistics for numeric values\n",
    "food.describe()"
   ]
  },
  {
   "cell_type": "code",
   "execution_count": 28,
   "metadata": {},
   "outputs": [
    {
     "data": {
      "image/png": "[encoded data removed]",
      "text/plain": [
       "<Figure size 1000x600 with 1 Axes>"
      ]
     },
     "metadata": {},
     "output_type": "display_data"
    }
   ],
   "source": [
    "# Distribution plot for a specific market\n",
    "market = 'Nairobi' \n",
    "df_market = food[food['market'] == market]\n",
    "plt.figure(figsize=(10, 6))\n",
    "sns.histplot(df_market['price'], kde=True)\n",
    "plt.title(f'Distribution of Prices in {market}')\n",
    "plt.xlabel('Price (in KSH)')\n",
    "plt.show()\n"
   ]
  }
 ],
 "metadata": {
  "kernelspec": {
   "display_name": "Python 3",
   "language": "python",
   "name": "python3"
  },
  "language_info": {
   "codemirror_mode": {
    "name": "ipython",
    "version": 3
   },
   "file_extension": ".py",
   "mimetype": "text/x-python",
   "name": "python",
   "nbconvert_exporter": "python",
   "pygments_lexer": "ipython3",
   "version": "3.11.2"
  },
  "orig_nbformat": 4
 },
 "nbformat": 4,
 "nbformat_minor": 2
}
